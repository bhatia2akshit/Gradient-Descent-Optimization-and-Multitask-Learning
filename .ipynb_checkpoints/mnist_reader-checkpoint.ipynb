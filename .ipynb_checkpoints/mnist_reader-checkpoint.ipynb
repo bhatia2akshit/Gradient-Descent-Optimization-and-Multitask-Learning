{
 "cells": [
  {
   "cell_type": "code",
   "execution_count": 1,
   "metadata": {},
   "outputs": [],
   "source": [
    "import torch\n",
    "import numpy as np\n",
    "import torchvision.datasets"
   ]
  },
  {
   "cell_type": "code",
   "execution_count": 2,
   "metadata": {},
   "outputs": [],
   "source": [
    "# https://github.com/oval-group/dfw\n",
    "from dfw import DFW\n",
    "from dfw.losses import MultiClassHingeLoss"
   ]
  },
  {
   "cell_type": "code",
   "execution_count": 3,
   "metadata": {},
   "outputs": [],
   "source": [
    "import torch.utils.data"
   ]
  },
  {
   "cell_type": "code",
   "execution_count": 4,
   "metadata": {},
   "outputs": [],
   "source": [
    "import torchvision\n",
    "from torchvision import datasets\n",
    "from torchvision.transforms import ToTensor \n",
    "image_data_train = torchvision.datasets.MNIST(root='./',train=True,download=True,transform=ToTensor())\n",
    "image_data_test = torchvision.datasets.MNIST(root='./',train=False,download=True,transform=ToTensor())"
   ]
  },
  {
   "cell_type": "code",
   "execution_count": 5,
   "metadata": {},
   "outputs": [],
   "source": [
    "data_loader_train = torch.utils.data.DataLoader(image_data_train,\n",
    "                                          batch_size=8,\n",
    "                                          shuffle=True,\n",
    "                                          )\n",
    "\n",
    "data_loader_test = torch.utils.data.DataLoader(image_data_test,\n",
    "                                          batch_size=8,\n",
    "                                          shuffle=True,\n",
    "                                          )"
   ]
  },
  {
   "cell_type": "code",
   "execution_count": 6,
   "metadata": {},
   "outputs": [
    {
     "name": "stdout",
     "output_type": "stream",
     "text": [
      "Using cpu device\n",
      "neural_network(\n",
      "  (flatten): Flatten(start_dim=1, end_dim=-1)\n",
      "  (linear_relu_stack): Sequential(\n",
      "    (0): Linear(in_features=784, out_features=512, bias=True)\n",
      "    (1): ReLU()\n",
      "    (2): Linear(in_features=512, out_features=512, bias=True)\n",
      "    (3): ReLU()\n",
      "    (4): Linear(in_features=512, out_features=10, bias=True)\n",
      "  )\n",
      ")\n"
     ]
    }
   ],
   "source": [
    "import torch.nn as nn\n",
    "from torch.autograd import Function\n",
    "\n",
    "device = \"cuda\" if torch.cuda.is_available() else \"cpu\"\n",
    "print(f\"Using {device} device\")\n",
    "\n",
    "# inpsiz = 784 \n",
    "# hidensiz = 512 \n",
    "# numclases = 10\n",
    "# numepchs = 4\n",
    "# bachsiz = 100\n",
    "# l_r = 0.001\n",
    "\n",
    "class neural_network(nn.Module):\n",
    "    def __init__(self, inpsiz, hidensiz, numclases):\n",
    "        super(neural_network, self).__init__()\n",
    "        self.flatten = nn.Flatten()\n",
    "        self.linear_relu_stack = nn.Sequential(\n",
    "            nn.Linear(28*28, 512),\n",
    "            nn.ReLU(),\n",
    "            nn.Linear(512, 512),\n",
    "            nn.ReLU(),\n",
    "            nn.Linear(512, 10)\n",
    "        )\n",
    "    def forward(self, x):\n",
    "        x = self.flatten(x)\n",
    "        logits = self.linear_relu_stack(x)\n",
    "        return logits\n",
    "    \n",
    "modl = neural_network(inpsiz, hidensiz, numclases)\n",
    "loss = MultiClassHingeLoss()\n",
    "# create DFW optimizer with learning rate of 0.1\n",
    "optim = DFW(modl.parameters(), eta=0.1)\n",
    "# train(data_loader_train,modl,loss,optim)\n",
    "print(modl)"
   ]
  },
  {
   "cell_type": "code",
   "execution_count": 7,
   "metadata": {},
   "outputs": [
    {
     "data": {
      "text/plain": [
       "8"
      ]
     },
     "execution_count": 7,
     "metadata": {},
     "output_type": "execute_result"
    }
   ],
   "source": [
    "data_loader_train.batch_size"
   ]
  },
  {
   "cell_type": "code",
   "execution_count": 8,
   "metadata": {},
   "outputs": [],
   "source": [
    "## training on batches\n",
    "def train(dataloader, model, loss_fn, optimizer):\n",
    "    size = len(dataloader.dataset)\n",
    "    model.train()\n",
    "    loss_list=[]\n",
    "    for batch, (X, y) in enumerate(dataloader):\n",
    "        # one X is a batch of 8 instances\n",
    "        X, y = X.to(device), y.to(device)\n",
    "\n",
    "        # Compute prediction error\n",
    "        pred = model(X)\n",
    "        loss = loss_fn(pred, y)\n",
    "        loss.backward()\n",
    "#         loss_list.append(loss)\n",
    "    # Backpropagation of all batches together\n",
    "    optimizer.zero_grad()\n",
    "    optimizer.step(lambda: float(loss))\n",
    "\n",
    "\n",
    "    loss, current = loss.item(), batch * len(X)\n",
    "    print(f\"loss: {loss:>7f}  [{current:>5d}/{size:>5d}]\")\n",
    "\n"
   ]
  },
  {
   "cell_type": "code",
   "execution_count": 9,
   "metadata": {},
   "outputs": [],
   "source": [
    "def test(dataloader, model, loss_fn):\n",
    "    size = len(dataloader.dataset)\n",
    "    num_batches = len(dataloader)\n",
    "    model.eval()\n",
    "    test_loss, correct = 0, 0\n",
    "    with torch.no_grad():\n",
    "        for X, y in dataloader:\n",
    "            X, y = X.to(device), y.to(device)\n",
    "            pred = model(X)\n",
    "            test_loss += loss_fn(pred, y).item()\n",
    "            correct += (pred.argmax(1) == y).type(torch.float).sum().item()\n",
    "    test_loss /= num_batches\n",
    "    correct /= size\n",
    "    print(f\"Test Error: \\n Accuracy: {(100*correct):>0.1f}%, Avg loss: {test_loss:>8f} \\n\")"
   ]
  },
  {
   "cell_type": "code",
   "execution_count": 79,
   "metadata": {},
   "outputs": [
    {
     "data": {
      "text/plain": [
       "'C:\\\\Users\\\\Akshit Bhatia\\\\OneDrive - Blue Avenir GmbH\\\\sebestian thesis\\\\torch_mnist\\\\torch_mnist'"
      ]
     },
     "execution_count": 79,
     "metadata": {},
     "output_type": "execute_result"
    }
   ],
   "source": [
    "pwd"
   ]
  },
  {
   "cell_type": "code",
   "execution_count": 10,
   "metadata": {},
   "outputs": [
    {
     "name": "stdout",
     "output_type": "stream",
     "text": [
      "Epoch 1\n",
      "-------------------------------\n",
      "loss: 1.066381  [59992/60000]\n",
      "Test Error: \n",
      " Accuracy: 7.4%, Avg loss: 1.064017 \n",
      "\n",
      "Epoch 2\n",
      "-------------------------------\n",
      "loss: 1.043282  [59992/60000]\n",
      "Test Error: \n",
      " Accuracy: 7.4%, Avg loss: 1.064017 \n",
      "\n",
      "Epoch 3\n",
      "-------------------------------\n",
      "loss: 1.079478  [59992/60000]\n",
      "Test Error: \n",
      " Accuracy: 7.4%, Avg loss: 1.064017 \n",
      "\n",
      "Epoch 4\n",
      "-------------------------------\n",
      "loss: 1.038301  [59992/60000]\n",
      "Test Error: \n",
      " Accuracy: 7.4%, Avg loss: 1.064017 \n",
      "\n",
      "Epoch 5\n",
      "-------------------------------\n",
      "loss: 1.079682  [59992/60000]\n",
      "Test Error: \n",
      " Accuracy: 7.4%, Avg loss: 1.064017 \n",
      "\n",
      "Done!\n"
     ]
    }
   ],
   "source": [
    "epochs = 5\n",
    "for t in range(epochs):\n",
    "    print(f\"Epoch {t+1}\\n-------------------------------\")\n",
    "    train(data_loader_train, modl, loss, optim)\n",
    "    test(data_loader_test, modl, loss)\n",
    "print(\"Done!\")"
   ]
  },
  {
   "cell_type": "code",
   "execution_count": null,
   "metadata": {},
   "outputs": [],
   "source": []
  }
 ],
 "metadata": {
  "kernelspec": {
   "display_name": "Python 3 (ipykernel)",
   "language": "python",
   "name": "python3"
  },
  "language_info": {
   "codemirror_mode": {
    "name": "ipython",
    "version": 3
   },
   "file_extension": ".py",
   "mimetype": "text/x-python",
   "name": "python",
   "nbconvert_exporter": "python",
   "pygments_lexer": "ipython3",
   "version": "3.9.12"
  }
 },
 "nbformat": 4,
 "nbformat_minor": 4
}
